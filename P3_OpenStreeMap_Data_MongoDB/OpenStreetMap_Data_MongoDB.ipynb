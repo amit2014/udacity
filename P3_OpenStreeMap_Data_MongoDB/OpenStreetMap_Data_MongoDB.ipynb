{
 "cells": [
  {
   "cell_type": "markdown",
   "metadata": {
    "collapsed": true
   },
   "source": [
    "# OpenStreetMap Data Wrangling with MongoDB"
   ]
  },
  {
   "cell_type": "markdown",
   "metadata": {},
   "source": [
    "## Project Overview\n",
    "To choose any area of the world in https://www.openstreetmap.org and use data munging techniques, such as assessing the quality of the data for validity, accuracy, completeness, consistency and uniformity, to clean the OpenStreetMap data for that part of the world. Finally, use MongoDB as the data schema to complete your project by storing, querying and aggregating the data.\n",
    "\n",
    "### OSM Dataset\n",
    "The data area selected for this project is of the \"old\" Toronto area. This area was choosen primiarly because I currently live in the city of Toronto but specifically within the \"old\" Toronto area and not the \"new\" or \"Greater Toronto Area\" aka the GTA.\n",
    "\n",
    "Data was directly exported from OpenStreetMap (link provided below)\n",
    "- https://www.openstreetmap.org/relation/2989349#map=12/43.6789/-79.3851"
   ]
  },
  {
   "cell_type": "markdown",
   "metadata": {},
   "source": [
    "## Data Audit"
   ]
  },
  {
   "cell_type": "markdown",
   "metadata": {},
   "source": [
    "### Issues\n",
    "After initially review/investigation of a sample set of the data I noticed three main problems. Each data problem will be discussed below.\n",
    "\n",
    "- abbreviated street names (St. as Street)\n",
    "- Duplicated abbreviation for different words (St. for Street vs St. for Saint)\n",
    "- Multiple abbreviations (Queen St E instead of Queen Street East)\n",
    "- Incorrect and inconsistent postal codes (format)"
   ]
  },
  {
   "cell_type": "markdown",
   "metadata": {},
   "source": [
    "**Street names**\n",
    "\n",
    "TODO: add some info here\n",
    "\n",
    "- Robertoway should have been \"Roberto Way\"\n",
    "- StreetE should have been \"Street East\"\n",
    "- AvenueE should have been \"Avenue East\"\n",
    "\n",
    "And the expected entries such as St vs St. or Ave vs Ave. were also found"
   ]
  },
  {
   "cell_type": "markdown",
   "metadata": {},
   "source": [
    "**Postal codes**\n",
    "\n",
    "Talk about how you cleaned things up - data/audit.py file\n",
    "\n",
    "Toronto, similar to all other cities in Canada have a strongly formatted/structured postal (post) code. And unlike other sections of an address, postal codes are still very quite important. In order to make sure all postal codes followed the correct format this field was validated.\n",
    "\n",
    "Validation of postal codes was performed with the use of a regular expession. The general format is [A-Z][0-9][A-Z] space [0-9][A-Z][0-9] - however, lowercase letters typically don't matter, a space or no space between the first and last 3 characters is normal and some letters are excluded because of their resemblance to numbers. The full RegEx is below:\n",
    "> ^[ABCEGHJKLMNPRSTVXY][0-9][ABCEGHJKLMNPRSTVWXYZ][\\s]?[0-9][ABCEGHJKLMNPRSTVWXYZ][0-9]\n",
    "\n",
    "Upon auditing the entire dataset, only one postal code entry was found to be incorrectly formatted. To validate this, using a sample dataset I purposely modified a number of postal codes to make sure the algorythm was working as expected.\n",
    "\n",
    "Postal Code: **M6K, M36 0H7 and M5E** was found and is incorrectly formatted \n",
    "\n",
    "\n",
    "TODO: could try to look up and correct incorrect item above"
   ]
  },
  {
   "cell_type": "markdown",
   "metadata": {},
   "source": [
    "### Analysis"
   ]
  },
  {
   "cell_type": "markdown",
   "metadata": {},
   "source": [
    "#### Data Overview\n",
    "- Old_Toronto.osm: 176MB\n",
    "- Old_Toronto.osm.json: 185.6MB\n",
    "\n",
    "\n",
    "> Imported 781332 documents\n",
    "\n",
    "> db.stats( )\n",
    "-\t\"db\" : \"udacity\",\n",
    "-\t\"collections\" : 1,\n",
    "-\t\"objects\" : 781332,\n",
    "-\t\"avgObjSize\" : 254.41478142454167,\n",
    "-\t\"dataSize\" : 198782410,\n",
    "-\t\"storageSize\" : 62021632,\n",
    "-\t\"numExtents\" : 0,\n",
    "-\t\"indexes\" : 1,\n",
    "-\t\"indexSize\" : 6918144,\n",
    "-\t\"ok\" : 1\n",
    "\n",
    "\n",
    "**Identifying tags and total counts**\n",
    "\n",
    "- \"lower\", for tags that contain only lowercase letters and are valid,\n",
    "- \"lower_colon\", for otherwise valid tags with a colon in their names,\n",
    "- \"problemchars\", for tags with problematic characters, and\n",
    "- \"other\", for other tags that do not fall into the other three categories.\n",
    "\n",
    "> {'lower': 510975, 'lower_colon': 355594, 'other': 10557, 'problemchars': 2}\n",
    "\n",
    "\n",
    "**Number of documents**\n",
    "                                                \n",
    "> db.getCollection('open_street_map').find().count()\n",
    "\n",
    "> 781332\n",
    "                                                \n",
    "**Number of nodes**\n",
    "                                                \n",
    "> db.getCollection('open_street_map').find({\"type\":\"node\"}).count()\n",
    "\n",
    "> 657172\n",
    "                                                \n",
    "**Number of ways**\n",
    "                                                \n",
    "> db.getCollection('open_street_map').find({\"type\":\"way\"}).count()\n",
    "\n",
    "> 123868\n",
    "                                                \n",
    "**Number of unique users**\n",
    "                                                \n",
    "> db.getCollection('open_street_map').distinct(\"created.user\").length\n",
    "\n",
    "> 799\n",
    "                                                \n",
    "**Top 1 contributing user**\n",
    "                                                \n",
    "> db.char.aggregate...\n",
    "\n",
    "**Number of users appearing only once (having 1 post)**\n",
    "                                                \n",
    "> db.char.aggregate..."
   ]
  },
  {
   "cell_type": "markdown",
   "metadata": {},
   "source": [
    "### Code details\n",
    "\n",
    "this is code for sample testing only"
   ]
  },
  {
   "cell_type": "code",
   "execution_count": 7,
   "metadata": {
    "collapsed": true
   },
   "outputs": [],
   "source": [
    "import xml.etree.cElementTree as ET\n",
    "import pprint\n",
    "import re"
   ]
  },
  {
   "cell_type": "code",
   "execution_count": 1,
   "metadata": {
    "collapsed": false
   },
   "outputs": [],
   "source": [
    "def count_tags(filename):\n",
    "    tags = {}\n",
    "    for _, elem in ET.iterparse(filename):\n",
    "        tag = elem.tag\n",
    "        if tag not in tags.keys():\n",
    "            tags[tag] = 1\n",
    "        else:\n",
    "            tags[tag] += 1\n",
    "    return tags\n",
    "\n",
    "\n",
    "def test():\n",
    "    tags = count_tags('src/sample.osm')\n",
    "    pprint.pprint(tags)\n",
    "\n",
    "# test()"
   ]
  },
  {
   "cell_type": "markdown",
   "metadata": {},
   "source": [
    "**Identifying unique users**"
   ]
  },
  {
   "cell_type": "code",
   "execution_count": 2,
   "metadata": {
    "collapsed": false
   },
   "outputs": [],
   "source": [
    "def get_user(element):\n",
    "    return\n",
    "\n",
    "\n",
    "def process_map(filename):\n",
    "    users = set()\n",
    "    for _, element in ET.iterparse(filename):\n",
    "        try:\n",
    "            users.add(element.attrib['uid'])\n",
    "        except KeyError:\n",
    "            continue\n",
    "    return users\n",
    "\n",
    "\n",
    "def test():\n",
    "    users = process_map('src/sample.osm')\n",
    "    print 'Number of unique contributors:', len(users)\n",
    "    \n",
    "# test()"
   ]
  },
  {
   "cell_type": "markdown",
   "metadata": {},
   "source": [
    "**Validating data tag 'k' attribute**"
   ]
  },
  {
   "cell_type": "code",
   "execution_count": 8,
   "metadata": {
    "collapsed": false
   },
   "outputs": [],
   "source": [
    "lower = re.compile(r'^([a-z]|_)*$')\n",
    "lower_colon = re.compile(r'^([a-z]|_)*:([a-z]|_)*$')\n",
    "problemchars = re.compile(r'[=\\+/&<>;\\'\"\\?%#$@\\,\\. \\t\\r\\n]')\n",
    "\n",
    "\n",
    "def key_type(element, keys):\n",
    "    if element.tag == \"tag\":\n",
    "        # search returns matchObject which is always true or None when 'false'\n",
    "        if lower.search(element.attrib['k']):\n",
    "            keys[\"lower\"] += 1\n",
    "        elif lower_colon.search(element.attrib['k']):\n",
    "            keys[\"lower_colon\"] += 1\n",
    "        elif problemchars.search(element.attrib['k']):\n",
    "            keys[\"problemchars\"] += 1\n",
    "        else:\n",
    "            keys[\"other\"] += 1\n",
    "\n",
    "    return keys\n",
    "\n",
    "\n",
    "def process_map(filename):\n",
    "    keys = {\"lower\": 0, \"lower_colon\": 0, \"problemchars\": 0, \"other\": 0}\n",
    "    for _, element in ET.iterparse(filename):\n",
    "        keys = key_type(element, keys)\n",
    "\n",
    "    return keys\n",
    "\n",
    "\n",
    "def test():\n",
    "    keys = process_map('src/sample.osm')\n",
    "    pprint.pprint(keys)\n",
    "\n",
    "# test()"
   ]
  },
  {
   "cell_type": "markdown",
   "metadata": {},
   "source": [
    "**Postal code**"
   ]
  },
  {
   "cell_type": "code",
   "execution_count": 9,
   "metadata": {
    "collapsed": false
   },
   "outputs": [],
   "source": [
    "postal_codes = re.compile(r'^[ABCEGHJKLMNPRSTVXY][0-9][ABCEGHJKLMNPRSTVWXYZ][\\s]?[0-9][ABCEGHJKLMNPRSTVWXYZ][0-9]')\n",
    "\n",
    "def audit_postal_code(postal_code):\n",
    "    postal_code = postal_code.upper()\n",
    "    if postal_codes.match(postal_code):\n",
    "        return postal_code\n",
    "\n",
    "    bad_postal_codes.append(postal_code)\n",
    "    return postal_code\n",
    "\n",
    "\n",
    "def is_postal_code(address_key):\n",
    "    return address_key == 'addr:postcode'"
   ]
  },
  {
   "cell_type": "markdown",
   "metadata": {},
   "source": [
    "**Street name validation**\n",
    "\n",
    "explain what this was used for"
   ]
  },
  {
   "cell_type": "code",
   "execution_count": 10,
   "metadata": {
    "collapsed": true
   },
   "outputs": [],
   "source": [
    "expected = [\"Street\", \"Avenue\", \"Boulevard\", \"Drive\", \"Court\", \"Place\", \"Square\", \"Lane\", \"Road\",\n",
    "            \"Trail\", \"Parkway\", \"Commons\", \"Crescent\", \"West\", \"South\", \"East\", \"North\", \"Vista\",\n",
    "            \"Gardens\", \"Circle\", \"Gate\", \"Heights\", \"Park\", \"Way\", \"Mews\", \"Keep\", \"Westway\", \"Glenway\",\n",
    "            \"Queensway\", \"Wood\", \"Path\", \"Terrace\", \"Appleway\"]\n",
    "\n",
    "street_mapping = {\"Ave \": \"Avenue\",\n",
    "                   \"St. \": \"Street\",\n",
    "                   \"Rd.\": \"Road\",\n",
    "                   \"StreetE\": \"Street East\",\n",
    "                   \"AvenueE\": \"Avenue East\",\n",
    "                   \"W. \": \"West\",\n",
    "                   \"E. \": \"East\",\n",
    "                   \"StreetW\": \"Street West\",\n",
    "                   \"StreetW.\": \"Street West\",\n",
    "                   \"StreetE.\": \"Street East\",\n",
    "                   \"Robertoway\": \"Roberto Way\"\n",
    "                   }"
   ]
  },
  {
   "cell_type": "markdown",
   "metadata": {},
   "source": [
    "**MongoDB import**\n",
    "\n",
    "JSON import code/commands\n",
    "> mongoimport --db udacity --collection open_street_map --drop --file old_toronto_canada.osm.json"
   ]
  },
  {
   "cell_type": "markdown",
   "metadata": {},
   "source": [
    "## Conclusion\n",
    "### Additional ideas\n",
    "Other useful informative queries\n",
    "\n",
    "### Final thoughts\n",
    "final thoughts"
   ]
  },
  {
   "cell_type": "markdown",
   "metadata": {},
   "source": [
    "## References\n",
    "- http://eli.thegreenplace.net/2012/03/15/processing-xml-in-python-with-elementtree\n",
    "- https://docs.python.org/2/library/re.html\n",
    "- http://wiki.openstreetmap.org/wiki/OSM_XML\n",
    "- https://www.openstreetmap.org/relation/2989349#map=12/43.6789/-79.3851"
   ]
  }
 ],
 "metadata": {
  "kernelspec": {
   "display_name": "Python 2",
   "language": "python",
   "name": "python2"
  },
  "language_info": {
   "codemirror_mode": {
    "name": "ipython",
    "version": 2
   },
   "file_extension": ".py",
   "mimetype": "text/x-python",
   "name": "python",
   "nbconvert_exporter": "python",
   "pygments_lexer": "ipython2",
   "version": "2.7.11"
  }
 },
 "nbformat": 4,
 "nbformat_minor": 0
}
