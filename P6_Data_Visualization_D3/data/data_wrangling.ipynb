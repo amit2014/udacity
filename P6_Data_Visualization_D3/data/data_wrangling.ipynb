{
 "cells": [
  {
   "cell_type": "markdown",
   "metadata": {},
   "source": [
    "# Data"
   ]
  },
  {
   "cell_type": "code",
   "execution_count": 1,
   "metadata": {
    "collapsed": true
   },
   "outputs": [],
   "source": [
    "import pandas as pd\n",
    "\n",
    "\n",
    "### API URLs ###\n",
    "# Namara.io API Key\n",
    "api_key = 'a144567820fbe7c8b88771e3ab2c25ea9e03dc5bc105dad4ef1e9514fa466fb2'\n",
    "\n",
    "# TORONTO: SAFETY INDICATORS (2014)\n",
    "api_url_safety = 'https://api.namara.io/v0/data_sets/b668078d-7fb2-4ab0-9c7b-7c39f744b63c/data/en-0?api_key='\n",
    "\n",
    "# TORONTO: POPULATION BY AGE (2014)\n",
    "api_url_pop = 'https://api.namara.io/v0/data_sets/728b9e5a-70c0-4a4f-aa6d-62282aaceae4/data/en-0?api_key='\n",
    "\n",
    "# TORONTO: TORONTO COMMUNITY HOUSING DATA\n",
    "api_url_housing = 'https://api.namara.io/v0/data_sets/4ed214fd-7401-4162-a668-30d12e58cd38/data/en-1?api_key='"
   ]
  },
  {
   "cell_type": "code",
   "execution_count": 2,
   "metadata": {
    "collapsed": true
   },
   "outputs": [],
   "source": [
    "### Load Data ###\n",
    "data_housing = pd.read_json(api_url_housing + api_key)\n",
    "data_safety = pd.read_json(api_url_safety + api_key)\n",
    "data_pop = pd.read_json(api_url_pop + api_key)"
   ]
  },
  {
   "cell_type": "code",
   "execution_count": 32,
   "metadata": {
    "collapsed": false
   },
   "outputs": [
    {
     "name": "stdout",
     "output_type": "stream",
     "text": [
      "(250, 20)\n"
     ]
    },
    {
     "data": {
      "text/html": [
       "<div>\n",
       "<table border=\"1\" class=\"dataframe\">\n",
       "  <thead>\n",
       "    <tr style=\"text-align: right;\">\n",
       "      <th></th>\n",
       "      <th>bld_desc</th>\n",
       "      <th>bld_id</th>\n",
       "      <th>bldg_postc</th>\n",
       "      <th>buildform</th>\n",
       "      <th>building</th>\n",
       "      <th>dev_id</th>\n",
       "      <th>dev_name</th>\n",
       "      <th>flr_abv_gr</th>\n",
       "      <th>geometry</th>\n",
       "      <th>latitude</th>\n",
       "      <th>longitude</th>\n",
       "      <th>mrkt_unit</th>\n",
       "      <th>nghdnum</th>\n",
       "      <th>objectid</th>\n",
       "      <th>policedivi</th>\n",
       "      <th>rgi_unit</th>\n",
       "      <th>total_resu</th>\n",
       "      <th>x</th>\n",
       "      <th>y</th>\n",
       "      <th>year_built</th>\n",
       "    </tr>\n",
       "  </thead>\n",
       "  <tbody>\n",
       "    <tr>\n",
       "      <th>0</th>\n",
       "      <td>3-Storey  Walk-Up Apt. Bldg.</td>\n",
       "      <td>5631</td>\n",
       "      <td>M9P 1T1</td>\n",
       "      <td>Walkup Apartment Building</td>\n",
       "      <td>Towns &amp; Wkups</td>\n",
       "      <td>111</td>\n",
       "      <td>Humber Acres</td>\n",
       "      <td>3</td>\n",
       "      <td>{u'type': u'Point', u'coordinates': [-79.51653...</td>\n",
       "      <td>43.692662</td>\n",
       "      <td>-79.516537</td>\n",
       "      <td>2</td>\n",
       "      <td>8</td>\n",
       "      <td>550</td>\n",
       "      <td>23</td>\n",
       "      <td>45</td>\n",
       "      <td>47</td>\n",
       "      <td>303451.384</td>\n",
       "      <td>4838967.587</td>\n",
       "      <td>1962</td>\n",
       "    </tr>\n",
       "  </tbody>\n",
       "</table>\n",
       "</div>"
      ],
      "text/plain": [
       "                       bld_desc  bld_id bldg_postc                  buildform  \\\n",
       "0  3-Storey  Walk-Up Apt. Bldg.    5631    M9P 1T1  Walkup Apartment Building   \n",
       "\n",
       "        building  dev_id      dev_name  flr_abv_gr  \\\n",
       "0  Towns & Wkups     111  Humber Acres           3   \n",
       "\n",
       "                                            geometry   latitude  longitude  \\\n",
       "0  {u'type': u'Point', u'coordinates': [-79.51653...  43.692662 -79.516537   \n",
       "\n",
       "   mrkt_unit  nghdnum  objectid  policedivi  rgi_unit  total_resu           x  \\\n",
       "0          2        8       550          23        45          47  303451.384   \n",
       "\n",
       "             y  year_built  \n",
       "0  4838967.587        1962  "
      ]
     },
     "execution_count": 32,
     "metadata": {},
     "output_type": "execute_result"
    }
   ],
   "source": [
    "# 1. Decide which features you want to keep from each dataset\n",
    "# 2. Use data_safety as base, remove unwanted features and add data_pop features\n",
    "# 3. data_housing needs to be aggregated/group for total residents per neighbourhood\n",
    "\n",
    "print data_housing.shape\n",
    "data_housing.head(1)"
   ]
  },
  {
   "cell_type": "markdown",
   "metadata": {},
   "source": [
    "Important fields to keep:\n",
    "\n",
    "* nghdnum (Neighbourhood Number)\n",
    "* total_resu (Total Residence)\n",
    "\n",
    "Only keep housing data where 'year_built' is greater than 2014 (other datasets are restricted to this year)."
   ]
  },
  {
   "cell_type": "code",
   "execution_count": 29,
   "metadata": {
    "collapsed": false
   },
   "outputs": [
    {
     "name": "stdout",
     "output_type": "stream",
     "text": [
      "(140, 14)\n"
     ]
    },
    {
     "data": {
      "text/html": [
       "<div>\n",
       "<table border=\"1\" class=\"dataframe\">\n",
       "  <thead>\n",
       "    <tr style=\"text-align: right;\">\n",
       "      <th></th>\n",
       "      <th>arsons</th>\n",
       "      <th>assaults</th>\n",
       "      <th>break_enters</th>\n",
       "      <th>fire_fire_alarms</th>\n",
       "      <th>fire_medical_calls</th>\n",
       "      <th>fire_vehicle_incidents</th>\n",
       "      <th>hazardous_incidents</th>\n",
       "      <th>murders</th>\n",
       "      <th>neighbourhood</th>\n",
       "      <th>num</th>\n",
       "      <th>robberies</th>\n",
       "      <th>sexual_assaults</th>\n",
       "      <th>thefts</th>\n",
       "      <th>vehicle_thefts</th>\n",
       "    </tr>\n",
       "  </thead>\n",
       "  <tbody>\n",
       "    <tr>\n",
       "      <th>0</th>\n",
       "      <td>0</td>\n",
       "      <td>66</td>\n",
       "      <td>46</td>\n",
       "      <td>128</td>\n",
       "      <td>275</td>\n",
       "      <td>79</td>\n",
       "      <td>58</td>\n",
       "      <td>1</td>\n",
       "      <td>Agincourt North</td>\n",
       "      <td>129</td>\n",
       "      <td>34</td>\n",
       "      <td>12</td>\n",
       "      <td>1</td>\n",
       "      <td>16</td>\n",
       "    </tr>\n",
       "  </tbody>\n",
       "</table>\n",
       "</div>"
      ],
      "text/plain": [
       "   arsons  assaults  break_enters fire_fire_alarms fire_medical_calls  \\\n",
       "0       0        66            46              128                275   \n",
       "\n",
       "   fire_vehicle_incidents  hazardous_incidents  murders    neighbourhood  num  \\\n",
       "0                      79                   58        1  Agincourt North  129   \n",
       "\n",
       "   robberies  sexual_assaults  thefts  vehicle_thefts  \n",
       "0         34               12       1              16  "
      ]
     },
     "execution_count": 29,
     "metadata": {},
     "output_type": "execute_result"
    }
   ],
   "source": [
    "print data_safety.shape\n",
    "data_safety.head(1)"
   ]
  },
  {
   "cell_type": "markdown",
   "metadata": {},
   "source": [
    "Important fields to keep: All\n",
    "\n",
    "Will group some such as, robberies and theft or fire_fire_alarms, fire_medical_calls and fire_vehicle_incidents"
   ]
  },
  {
   "cell_type": "code",
   "execution_count": 31,
   "metadata": {
    "collapsed": false
   },
   "outputs": [
    {
     "name": "stdout",
     "output_type": "stream",
     "text": [
      "(140, 22)\n"
     ]
    },
    {
     "data": {
      "text/html": [
       "<div>\n",
       "<table border=\"1\" class=\"dataframe\">\n",
       "  <thead>\n",
       "    <tr style=\"text-align: right;\">\n",
       "      <th></th>\n",
       "      <th>neighbourhood</th>\n",
       "      <th>num</th>\n",
       "      <th>pop_0_4</th>\n",
       "      <th>pop_10_14</th>\n",
       "      <th>pop_15_19</th>\n",
       "      <th>pop_20_24</th>\n",
       "      <th>pop_25_29</th>\n",
       "      <th>pop_30_34</th>\n",
       "      <th>pop_35_39</th>\n",
       "      <th>pop_40_44</th>\n",
       "      <th>...</th>\n",
       "      <th>pop_55_59</th>\n",
       "      <th>pop_5_to_9</th>\n",
       "      <th>pop_60_64</th>\n",
       "      <th>pop_65_69</th>\n",
       "      <th>pop_70_74</th>\n",
       "      <th>pop_75_79</th>\n",
       "      <th>pop_80_84</th>\n",
       "      <th>pop_85_and_over</th>\n",
       "      <th>pop_female</th>\n",
       "      <th>pop_male</th>\n",
       "    </tr>\n",
       "  </thead>\n",
       "  <tbody>\n",
       "    <tr>\n",
       "      <th>0</th>\n",
       "      <td>Agincourt North</td>\n",
       "      <td>129</td>\n",
       "      <td>1,320.00</td>\n",
       "      <td>1,560.00</td>\n",
       "      <td>2,000.00</td>\n",
       "      <td>2,165.00</td>\n",
       "      <td>2,145.00</td>\n",
       "      <td>1,685.00</td>\n",
       "      <td>1,715.00</td>\n",
       "      <td>2,125.00</td>\n",
       "      <td>...</td>\n",
       "      <td>2,105.00</td>\n",
       "      <td>1,345.00</td>\n",
       "      <td>2,000.00</td>\n",
       "      <td>1,430.00</td>\n",
       "      <td>1,245.00</td>\n",
       "      <td>1,025.00</td>\n",
       "      <td>745</td>\n",
       "      <td>650</td>\n",
       "      <td>15845</td>\n",
       "      <td>14445</td>\n",
       "    </tr>\n",
       "  </tbody>\n",
       "</table>\n",
       "<p>1 rows × 22 columns</p>\n",
       "</div>"
      ],
      "text/plain": [
       "     neighbourhood  num   pop_0_4 pop_10_14 pop_15_19 pop_20_24 pop_25_29  \\\n",
       "0  Agincourt North  129  1,320.00  1,560.00  2,000.00  2,165.00  2,145.00   \n",
       "\n",
       "  pop_30_34 pop_35_39 pop_40_44   ...    pop_55_59 pop_5_to_9 pop_60_64  \\\n",
       "0  1,685.00  1,715.00  2,125.00   ...     2,105.00   1,345.00  2,000.00   \n",
       "\n",
       "  pop_65_69 pop_70_74 pop_75_79 pop_80_84 pop_85_and_over pop_female pop_male  \n",
       "0  1,430.00  1,245.00  1,025.00       745             650      15845    14445  \n",
       "\n",
       "[1 rows x 22 columns]"
      ]
     },
     "execution_count": 31,
     "metadata": {},
     "output_type": "execute_result"
    }
   ],
   "source": [
    "print data_pop.shape\n",
    "data_pop.head(1)"
   ]
  },
  {
   "cell_type": "markdown",
   "metadata": {},
   "source": [
    "Important fields to keep:\n",
    "\n",
    "* num (Neighbourhood Number)\n",
    "* pop_female\n",
    "* pop_male"
   ]
  },
  {
   "cell_type": "code",
   "execution_count": 54,
   "metadata": {
    "collapsed": false
   },
   "outputs": [
    {
     "data": {
      "text/html": [
       "<div>\n",
       "<table border=\"1\" class=\"dataframe\">\n",
       "  <thead>\n",
       "    <tr style=\"text-align: right;\">\n",
       "      <th></th>\n",
       "      <th>arsons</th>\n",
       "      <th>assaults</th>\n",
       "      <th>break_enters</th>\n",
       "      <th>fire_fire_alarms</th>\n",
       "      <th>fire_medical_calls</th>\n",
       "      <th>fire_vehicle_incidents</th>\n",
       "      <th>hazardous_incidents</th>\n",
       "      <th>murders</th>\n",
       "      <th>neighbourhood</th>\n",
       "      <th>num</th>\n",
       "      <th>robberies</th>\n",
       "      <th>sexual_assaults</th>\n",
       "      <th>thefts</th>\n",
       "      <th>vehicle_thefts</th>\n",
       "    </tr>\n",
       "  </thead>\n",
       "  <tbody>\n",
       "    <tr>\n",
       "      <th>0</th>\n",
       "      <td>0</td>\n",
       "      <td>66</td>\n",
       "      <td>46</td>\n",
       "      <td>128</td>\n",
       "      <td>275</td>\n",
       "      <td>79</td>\n",
       "      <td>58</td>\n",
       "      <td>1</td>\n",
       "      <td>Agincourt North</td>\n",
       "      <td>129</td>\n",
       "      <td>34</td>\n",
       "      <td>12</td>\n",
       "      <td>1</td>\n",
       "      <td>16</td>\n",
       "    </tr>\n",
       "    <tr>\n",
       "      <th>1</th>\n",
       "      <td>0</td>\n",
       "      <td>108</td>\n",
       "      <td>73</td>\n",
       "      <td>168</td>\n",
       "      <td>316</td>\n",
       "      <td>158</td>\n",
       "      <td>70</td>\n",
       "      <td>0</td>\n",
       "      <td>Agincourt South-Malvern West</td>\n",
       "      <td>128</td>\n",
       "      <td>24</td>\n",
       "      <td>20</td>\n",
       "      <td>19</td>\n",
       "      <td>32</td>\n",
       "    </tr>\n",
       "    <tr>\n",
       "      <th>2</th>\n",
       "      <td>1</td>\n",
       "      <td>44</td>\n",
       "      <td>24</td>\n",
       "      <td>106</td>\n",
       "      <td>170</td>\n",
       "      <td>54</td>\n",
       "      <td>42</td>\n",
       "      <td>1</td>\n",
       "      <td>Alderwood</td>\n",
       "      <td>20</td>\n",
       "      <td>6</td>\n",
       "      <td>5</td>\n",
       "      <td>7</td>\n",
       "      <td>9</td>\n",
       "    </tr>\n",
       "    <tr>\n",
       "      <th>3</th>\n",
       "      <td>3</td>\n",
       "      <td>219</td>\n",
       "      <td>156</td>\n",
       "      <td>770</td>\n",
       "      <td>940</td>\n",
       "      <td>135</td>\n",
       "      <td>243</td>\n",
       "      <td>0</td>\n",
       "      <td>Annex</td>\n",
       "      <td>95</td>\n",
       "      <td>34</td>\n",
       "      <td>28</td>\n",
       "      <td>22</td>\n",
       "      <td>14</td>\n",
       "    </tr>\n",
       "    <tr>\n",
       "      <th>4</th>\n",
       "      <td>1</td>\n",
       "      <td>61</td>\n",
       "      <td>65</td>\n",
       "      <td>288</td>\n",
       "      <td>544</td>\n",
       "      <td>144</td>\n",
       "      <td>118</td>\n",
       "      <td>0</td>\n",
       "      <td>Banbury-Don Mills</td>\n",
       "      <td>42</td>\n",
       "      <td>12</td>\n",
       "      <td>8</td>\n",
       "      <td>10</td>\n",
       "      <td>20</td>\n",
       "    </tr>\n",
       "  </tbody>\n",
       "</table>\n",
       "</div>"
      ],
      "text/plain": [
       "   arsons  assaults  break_enters fire_fire_alarms fire_medical_calls  \\\n",
       "0       0        66            46              128                275   \n",
       "1       0       108            73              168                316   \n",
       "2       1        44            24              106                170   \n",
       "3       3       219           156              770                940   \n",
       "4       1        61            65              288                544   \n",
       "\n",
       "   fire_vehicle_incidents  hazardous_incidents  murders  \\\n",
       "0                      79                   58        1   \n",
       "1                     158                   70        0   \n",
       "2                      54                   42        1   \n",
       "3                     135                  243        0   \n",
       "4                     144                  118        0   \n",
       "\n",
       "                  neighbourhood  num  robberies  sexual_assaults  thefts  \\\n",
       "0               Agincourt North  129         34               12       1   \n",
       "1  Agincourt South-Malvern West  128         24               20      19   \n",
       "2                     Alderwood   20          6                5       7   \n",
       "3                         Annex   95         34               28      22   \n",
       "4             Banbury-Don Mills   42         12                8      10   \n",
       "\n",
       "   vehicle_thefts  \n",
       "0              16  \n",
       "1              32  \n",
       "2               9  \n",
       "3              14  \n",
       "4              20  "
      ]
     },
     "execution_count": 54,
     "metadata": {},
     "output_type": "execute_result"
    }
   ],
   "source": [
    "data_safety.head()"
   ]
  },
  {
   "cell_type": "code",
   "execution_count": 58,
   "metadata": {
    "collapsed": false
   },
   "outputs": [
    {
     "data": {
      "text/html": [
       "<div>\n",
       "<table border=\"1\" class=\"dataframe\">\n",
       "  <thead>\n",
       "    <tr style=\"text-align: right;\">\n",
       "      <th></th>\n",
       "      <th>arsons</th>\n",
       "      <th>assaults</th>\n",
       "      <th>break_enters</th>\n",
       "      <th>fire_fire_alarms</th>\n",
       "      <th>fire_medical_calls</th>\n",
       "      <th>fire_vehicle_incidents</th>\n",
       "      <th>hazardous_incidents</th>\n",
       "      <th>murders</th>\n",
       "      <th>neighbourhood</th>\n",
       "      <th>num</th>\n",
       "      <th>robberies</th>\n",
       "      <th>sexual_assaults</th>\n",
       "      <th>thefts</th>\n",
       "      <th>vehicle_thefts</th>\n",
       "      <th>pop_female</th>\n",
       "      <th>pop_male</th>\n",
       "    </tr>\n",
       "  </thead>\n",
       "  <tbody>\n",
       "    <tr>\n",
       "      <th>0</th>\n",
       "      <td>0</td>\n",
       "      <td>66</td>\n",
       "      <td>46</td>\n",
       "      <td>128</td>\n",
       "      <td>275</td>\n",
       "      <td>79</td>\n",
       "      <td>58</td>\n",
       "      <td>1</td>\n",
       "      <td>Agincourt North</td>\n",
       "      <td>129</td>\n",
       "      <td>34</td>\n",
       "      <td>12</td>\n",
       "      <td>1</td>\n",
       "      <td>16</td>\n",
       "      <td>15845</td>\n",
       "      <td>14445</td>\n",
       "    </tr>\n",
       "    <tr>\n",
       "      <th>1</th>\n",
       "      <td>0</td>\n",
       "      <td>108</td>\n",
       "      <td>73</td>\n",
       "      <td>168</td>\n",
       "      <td>316</td>\n",
       "      <td>158</td>\n",
       "      <td>70</td>\n",
       "      <td>0</td>\n",
       "      <td>Agincourt South-Malvern West</td>\n",
       "      <td>128</td>\n",
       "      <td>24</td>\n",
       "      <td>20</td>\n",
       "      <td>19</td>\n",
       "      <td>32</td>\n",
       "      <td>11350</td>\n",
       "      <td>10630</td>\n",
       "    </tr>\n",
       "    <tr>\n",
       "      <th>2</th>\n",
       "      <td>1</td>\n",
       "      <td>44</td>\n",
       "      <td>24</td>\n",
       "      <td>106</td>\n",
       "      <td>170</td>\n",
       "      <td>54</td>\n",
       "      <td>42</td>\n",
       "      <td>1</td>\n",
       "      <td>Alderwood</td>\n",
       "      <td>20</td>\n",
       "      <td>6</td>\n",
       "      <td>5</td>\n",
       "      <td>7</td>\n",
       "      <td>9</td>\n",
       "      <td>6130</td>\n",
       "      <td>5765</td>\n",
       "    </tr>\n",
       "    <tr>\n",
       "      <th>3</th>\n",
       "      <td>3</td>\n",
       "      <td>219</td>\n",
       "      <td>156</td>\n",
       "      <td>770</td>\n",
       "      <td>940</td>\n",
       "      <td>135</td>\n",
       "      <td>243</td>\n",
       "      <td>0</td>\n",
       "      <td>Annex</td>\n",
       "      <td>95</td>\n",
       "      <td>34</td>\n",
       "      <td>28</td>\n",
       "      <td>22</td>\n",
       "      <td>14</td>\n",
       "      <td>15415</td>\n",
       "      <td>13745</td>\n",
       "    </tr>\n",
       "    <tr>\n",
       "      <th>4</th>\n",
       "      <td>1</td>\n",
       "      <td>61</td>\n",
       "      <td>65</td>\n",
       "      <td>288</td>\n",
       "      <td>544</td>\n",
       "      <td>144</td>\n",
       "      <td>118</td>\n",
       "      <td>0</td>\n",
       "      <td>Banbury-Don Mills</td>\n",
       "      <td>42</td>\n",
       "      <td>12</td>\n",
       "      <td>8</td>\n",
       "      <td>10</td>\n",
       "      <td>20</td>\n",
       "      <td>14430</td>\n",
       "      <td>12485</td>\n",
       "    </tr>\n",
       "  </tbody>\n",
       "</table>\n",
       "</div>"
      ],
      "text/plain": [
       "   arsons  assaults  break_enters fire_fire_alarms fire_medical_calls  \\\n",
       "0       0        66            46              128                275   \n",
       "1       0       108            73              168                316   \n",
       "2       1        44            24              106                170   \n",
       "3       3       219           156              770                940   \n",
       "4       1        61            65              288                544   \n",
       "\n",
       "   fire_vehicle_incidents  hazardous_incidents  murders  \\\n",
       "0                      79                   58        1   \n",
       "1                     158                   70        0   \n",
       "2                      54                   42        1   \n",
       "3                     135                  243        0   \n",
       "4                     144                  118        0   \n",
       "\n",
       "                  neighbourhood  num  robberies  sexual_assaults  thefts  \\\n",
       "0               Agincourt North  129         34               12       1   \n",
       "1  Agincourt South-Malvern West  128         24               20      19   \n",
       "2                     Alderwood   20          6                5       7   \n",
       "3                         Annex   95         34               28      22   \n",
       "4             Banbury-Don Mills   42         12                8      10   \n",
       "\n",
       "   vehicle_thefts  pop_female  pop_male  \n",
       "0              16       15845     14445  \n",
       "1              32       11350     10630  \n",
       "2               9        6130      5765  \n",
       "3              14       15415     13745  \n",
       "4              20       14430     12485  "
      ]
     },
     "execution_count": 58,
     "metadata": {},
     "output_type": "execute_result"
    }
   ],
   "source": [
    "# Add population totals and safety numbers to new dataset\n",
    "data = pd.concat([data_safety, data_pop['pop_female'], data_pop['pop_male']], axis=1)\n",
    "data.head()"
   ]
  },
  {
   "cell_type": "code",
   "execution_count": 69,
   "metadata": {
    "collapsed": false
   },
   "outputs": [
    {
     "data": {
      "text/plain": [
       "count    140.0000\n",
       "mean      70.5000\n",
       "std       40.5586\n",
       "min        1.0000\n",
       "25%       35.7500\n",
       "50%       70.5000\n",
       "75%      105.2500\n",
       "max      140.0000\n",
       "Name: num, dtype: float64"
      ]
     },
     "execution_count": 69,
     "metadata": {},
     "output_type": "execute_result"
    }
   ],
   "source": [
    "data['num'].describe()"
   ]
  },
  {
   "cell_type": "code",
   "execution_count": 79,
   "metadata": {
    "collapsed": false
   },
   "outputs": [
    {
     "name": "stdout",
     "output_type": "stream",
     "text": [
      "115\n"
     ]
    },
    {
     "data": {
      "text/plain": [
       "nghdnum\n",
       "1    204\n",
       "2     74\n",
       "4     64\n",
       "5    115\n",
       "6    360\n",
       "Name: total_resu, dtype: int64"
      ]
     },
     "execution_count": 79,
     "metadata": {},
     "output_type": "execute_result"
    }
   ],
   "source": [
    "# Group housing totals by neighbourhood number\n",
    "# Add total neighbourhood number to new dataset\n",
    "\n",
    "# data_housing.head()\n",
    "# RGI -> Rent-Geared-Income\n",
    "data_housing_grp_by_nghdum = data_housing.groupby('nghdnum')['total_resu'].sum()\n",
    "\n",
    "# Verify numbers\n",
    "print data_housing.loc[data_housing['nghdnum'] == 5]['total_resu'].sum()\n",
    "data_housing_grp_by_nghdum.head()"
   ]
  },
  {
   "cell_type": "code",
   "execution_count": null,
   "metadata": {
    "collapsed": true
   },
   "outputs": [],
   "source": []
  },
  {
   "cell_type": "code",
   "execution_count": null,
   "metadata": {
    "collapsed": true
   },
   "outputs": [],
   "source": []
  }
 ],
 "metadata": {
  "kernelspec": {
   "display_name": "Python 2",
   "language": "python",
   "name": "python2"
  },
  "language_info": {
   "codemirror_mode": {
    "name": "ipython",
    "version": 2
   },
   "file_extension": ".py",
   "mimetype": "text/x-python",
   "name": "python",
   "nbconvert_exporter": "python",
   "pygments_lexer": "ipython2",
   "version": "2.7.11"
  }
 },
 "nbformat": 4,
 "nbformat_minor": 0
}
